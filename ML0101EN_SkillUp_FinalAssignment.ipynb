{
 "cells": [
  {
   "cell_type": "markdown",
   "metadata": {},
   "source": [
    "<p style=\"text-align:center\">\n",
    "    <a href=\"https://skills.network/?utm_medium=Exinfluencer&utm_source=Exinfluencer&utm_content=000026UJ&utm_term=10006555&utm_id=NA-SkillsNetwork-Channel-SkillsNetworkCoursesIBMDeveloperSkillsNetworkML0101ENSkillsNetwork20718538-2022-01-01\" target=\"_blank\">\n",
    "    <img src=\"https://cf-courses-data.s3.us.cloud-object-storage.appdomain.cloud/assets/logos/SN_web_lightmode.png\" width=\"200\" alt=\"Skills Network Logo\"  />\n",
    "    </a>\n",
    "</p>\n",
    "\n",
    "<h1 align=\"center\"><font size=\"5\">Final Project: Classification with Python</font></h1>\n"
   ]
  },
  {
   "cell_type": "markdown",
   "metadata": {},
   "source": [
    "<h2>Table of Contents</h2>\n",
    "<div class=\"alert alert-block alert-info\" style=\"margin-top: 20px\">\n",
    "    <ul>\n",
    "    <li><a href=\"https://#Section_1\">Instructions</a></li>\n",
    "    <li><a href=\"https://#Section_2\">About the Data</a></li>\n",
    "    <li><a href=\"https://#Section_3\">Importing Data </a></li>\n",
    "    <li><a href=\"https://#Section_4\">Data Preprocessing</a> </li>\n",
    "    <li><a href=\"https://#Section_5\">Transforming Categorical Variables </a></li>\n",
    "    <li><a href=\"https://#Section_6\">Train and Test Data Split </a></li>\n",
    "    <li><a href=\"https://#Section_7\">Train Linear Regression, KNN, Decision Tree, Logistic Regression, and SVM models and return their appropriate accuracy scores</a></li>\n",
    "</a></li>\n",
    "</div>\n",
    "<p>Estimated Time Needed: <strong>180 min</strong></p>\n",
    "</div>\n",
    "\n",
    "<hr>\n"
   ]
  },
  {
   "cell_type": "markdown",
   "metadata": {},
   "source": [
    "# Instructions\n"
   ]
  },
  {
   "cell_type": "markdown",
   "metadata": {},
   "source": [
    "In this notebook, you will  practice all the classification algorithms that we learned in this course.\n",
    "\n",
    "After completing this notebook, you will need to upload it to the \"Submit Your Work and Review Your Peers\" section of the Final Project module.\n",
    "\n",
    "Below, is where we are going to use the classification algorithms to create a model based on our training data and evaluate our testing data using evaluation metrics learned in the course.\n",
    "\n",
    "We will use some of the algorithms taught in the course, specifically:\n",
    "\n",
    "1.  Linear Regression\n",
    "2.  KNN\n",
    "3.  Decision Trees\n",
    "4.  Logistic Regression\n",
    "5.  SVM\n",
    "\n",
    "We will evaluate our models using:\n",
    "\n",
    "1.  Accuracy Score\n",
    "2.  Jaccard Index\n",
    "3.  F1-Score\n",
    "4.  LogLoss\n",
    "5.  Mean Absolute Error\n",
    "6.  Mean Squared Error\n",
    "7.  R2-Score\n",
    "\n",
    "Finally, you will use your models to generate the report displaying the accuracy scores.\n"
   ]
  },
  {
   "cell_type": "markdown",
   "metadata": {},
   "source": [
    "# About The Dataset\n"
   ]
  },
  {
   "cell_type": "markdown",
   "metadata": {},
   "source": [
    "The original source of the data is Australian Government's Bureau of Meteorology and the latest data can be gathered from [http://www.bom.gov.au/climate/dwo/](http://www.bom.gov.au/climate/dwo/?utm_medium=Exinfluencer&utm_source=Exinfluencer&utm_content=000026UJ&utm_term=10006555&utm_id=NA-SkillsNetwork-Channel-SkillsNetworkCoursesIBMDeveloperSkillsNetworkML0101ENSkillsNetwork20718538-2022-01-01).\n",
    "\n",
    "The dataset to be used has extra columns like 'RainToday' and our target is 'RainTomorrow', which was gathered from the Rattle at [https://bitbucket.org/kayontoga/rattle/src/master/data/weatherAUS.RData](https://bitbucket.org/kayontoga/rattle/src/master/data/weatherAUS.RData?utm_medium=Exinfluencer&utm_source=Exinfluencer&utm_content=000026UJ&utm_term=10006555&utm_id=NA-SkillsNetwork-Channel-SkillsNetworkCoursesIBMDeveloperSkillsNetworkML0101ENSkillsNetwork20718538-2022-01-01)\n"
   ]
  },
  {
   "cell_type": "markdown",
   "metadata": {},
   "source": [
    "This dataset contains observations of weather metrics for each day from 2008 to 2017. The **weatherAUS.csv** dataset includes the following fields:\n",
    "\n",
    "| Field         | Description                                           | Unit            | Type   |\n",
    "| ------------- | ----------------------------------------------------- | --------------- | ------ |\n",
    "| Date          | Date of the Observation in YYYY-MM-DD                 | Date            | object |\n",
    "| Location      | Location of the Observation                           | Location        | object |\n",
    "| MinTemp       | Minimum temperature                                   | Celsius         | float  |\n",
    "| MaxTemp       | Maximum temperature                                   | Celsius         | float  |\n",
    "| Rainfall      | Amount of rainfall                                    | Millimeters     | float  |\n",
    "| Evaporation   | Amount of evaporation                                 | Millimeters     | float  |\n",
    "| Sunshine      | Amount of bright sunshine                             | hours           | float  |\n",
    "| WindGustDir   | Direction of the strongest gust                       | Compass Points  | object |\n",
    "| WindGustSpeed | Speed of the strongest gust                           | Kilometers/Hour | object |\n",
    "| WindDir9am    | Wind direction averaged of 10 minutes prior to 9am    | Compass Points  | object |\n",
    "| WindDir3pm    | Wind direction averaged of 10 minutes prior to 3pm    | Compass Points  | object |\n",
    "| WindSpeed9am  | Wind speed averaged of 10 minutes prior to 9am        | Kilometers/Hour | float  |\n",
    "| WindSpeed3pm  | Wind speed averaged of 10 minutes prior to 3pm        | Kilometers/Hour | float  |\n",
    "| Humidity9am   | Humidity at 9am                                       | Percent         | float  |\n",
    "| Humidity3pm   | Humidity at 3pm                                       | Percent         | float  |\n",
    "| Pressure9am   | Atmospheric pressure reduced to mean sea level at 9am | Hectopascal     | float  |\n",
    "| Pressure3pm   | Atmospheric pressure reduced to mean sea level at 3pm | Hectopascal     | float  |\n",
    "| Cloud9am      | Fraction of the sky obscured by cloud at 9am          | Eights          | float  |\n",
    "| Cloud3pm      | Fraction of the sky obscured by cloud at 3pm          | Eights          | float  |\n",
    "| Temp9am       | Temperature at 9am                                    | Celsius         | float  |\n",
    "| Temp3pm       | Temperature at 3pm                                    | Celsius         | float  |\n",
    "| RainToday     | If there was rain today                               | Yes/No          | object |\n",
    "| RISK_MM       | Amount of rain tomorrow                               | Millimeters     | float  |\n",
    "| RainTomorrow  | If there is rain tomorrow                             | Yes/No          | float  |\n",
    "\n",
    "Column definitions were gathered from [http://www.bom.gov.au/climate/dwo/IDCJDW0000.shtml](http://www.bom.gov.au/climate/dwo/IDCJDW0000.shtml?utm_medium=Exinfluencer&utm_source=Exinfluencer&utm_content=000026UJ&utm_term=10006555&utm_id=NA-SkillsNetwork-Channel-SkillsNetworkCoursesIBMDeveloperSkillsNetworkML0101ENSkillsNetwork20718538-2022-01-01)\n"
   ]
  },
  {
   "cell_type": "markdown",
   "metadata": {},
   "source": [
    "## **Import the required libraries**\n"
   ]
  },
  {
   "cell_type": "code",
   "execution_count": 1,
   "metadata": {},
   "outputs": [],
   "source": [
    "# All Libraries required for this lab are listed below. The libraries pre-installed on Skills Network Labs are commented.\n",
    "# !mamba install -qy pandas==1.3.4 numpy==1.21.4 seaborn==0.9.0 matplotlib==3.5.0 scikit-learn==0.20.1\n",
    "# Note: If your environment doesn't support \"!mamba install\", use \"!pip install\""
   ]
  },
  {
   "cell_type": "code",
   "execution_count": 2,
   "metadata": {},
   "outputs": [],
   "source": [
    "# Surpress warnings:\n",
    "def warn(*args, **kwargs):\n",
    "    pass\n",
    "import warnings\n",
    "warnings.warn = warn"
   ]
  },
  {
   "cell_type": "code",
   "execution_count": 3,
   "metadata": {},
   "outputs": [],
   "source": [
    "import pandas as pd\n",
    "from sklearn.linear_model import LogisticRegression\n",
    "from sklearn.linear_model import LinearRegression\n",
    "from sklearn import preprocessing\n",
    "import numpy as np\n",
    "from sklearn.neighbors import KNeighborsClassifier\n",
    "from sklearn.model_selection import GridSearchCV\n",
    "from sklearn.model_selection import train_test_split\n",
    "from sklearn.neighbors import KNeighborsClassifier\n",
    "from sklearn.tree import DecisionTreeClassifier\n",
    "from sklearn import svm\n",
    "from sklearn.metrics import jaccard_score\n",
    "from sklearn.metrics import f1_score\n",
    "from sklearn.metrics import log_loss\n",
    "import matplotlib.pyplot as plt\n",
    "from sklearn.metrics import confusion_matrix, accuracy_score\n",
    "import sklearn.metrics as metrics"
   ]
  },
  {
   "cell_type": "markdown",
   "metadata": {},
   "source": [
    "### Importing the Dataset\n"
   ]
  },
  {
   "cell_type": "code",
   "execution_count": 4,
   "metadata": {},
   "outputs": [
    {
     "data": {
      "text/html": [
       "<div>\n",
       "<style scoped>\n",
       "    .dataframe tbody tr th:only-of-type {\n",
       "        vertical-align: middle;\n",
       "    }\n",
       "\n",
       "    .dataframe tbody tr th {\n",
       "        vertical-align: top;\n",
       "    }\n",
       "\n",
       "    .dataframe thead th {\n",
       "        text-align: right;\n",
       "    }\n",
       "</style>\n",
       "<table border=\"1\" class=\"dataframe\">\n",
       "  <thead>\n",
       "    <tr style=\"text-align: right;\">\n",
       "      <th></th>\n",
       "      <th>Date</th>\n",
       "      <th>MinTemp</th>\n",
       "      <th>MaxTemp</th>\n",
       "      <th>Rainfall</th>\n",
       "      <th>Evaporation</th>\n",
       "      <th>Sunshine</th>\n",
       "      <th>WindGustDir</th>\n",
       "      <th>WindGustSpeed</th>\n",
       "      <th>WindDir9am</th>\n",
       "      <th>WindDir3pm</th>\n",
       "      <th>...</th>\n",
       "      <th>Humidity9am</th>\n",
       "      <th>Humidity3pm</th>\n",
       "      <th>Pressure9am</th>\n",
       "      <th>Pressure3pm</th>\n",
       "      <th>Cloud9am</th>\n",
       "      <th>Cloud3pm</th>\n",
       "      <th>Temp9am</th>\n",
       "      <th>Temp3pm</th>\n",
       "      <th>RainToday</th>\n",
       "      <th>RainTomorrow</th>\n",
       "    </tr>\n",
       "  </thead>\n",
       "  <tbody>\n",
       "    <tr>\n",
       "      <th>0</th>\n",
       "      <td>2/1/2008</td>\n",
       "      <td>19.5</td>\n",
       "      <td>22.4</td>\n",
       "      <td>15.6</td>\n",
       "      <td>6.2</td>\n",
       "      <td>0.0</td>\n",
       "      <td>W</td>\n",
       "      <td>41</td>\n",
       "      <td>S</td>\n",
       "      <td>SSW</td>\n",
       "      <td>...</td>\n",
       "      <td>92</td>\n",
       "      <td>84</td>\n",
       "      <td>1017.6</td>\n",
       "      <td>1017.4</td>\n",
       "      <td>8</td>\n",
       "      <td>8</td>\n",
       "      <td>20.7</td>\n",
       "      <td>20.9</td>\n",
       "      <td>Yes</td>\n",
       "      <td>Yes</td>\n",
       "    </tr>\n",
       "    <tr>\n",
       "      <th>1</th>\n",
       "      <td>2/2/2008</td>\n",
       "      <td>19.5</td>\n",
       "      <td>25.6</td>\n",
       "      <td>6.0</td>\n",
       "      <td>3.4</td>\n",
       "      <td>2.7</td>\n",
       "      <td>W</td>\n",
       "      <td>41</td>\n",
       "      <td>W</td>\n",
       "      <td>E</td>\n",
       "      <td>...</td>\n",
       "      <td>83</td>\n",
       "      <td>73</td>\n",
       "      <td>1017.9</td>\n",
       "      <td>1016.4</td>\n",
       "      <td>7</td>\n",
       "      <td>7</td>\n",
       "      <td>22.4</td>\n",
       "      <td>24.8</td>\n",
       "      <td>Yes</td>\n",
       "      <td>Yes</td>\n",
       "    </tr>\n",
       "    <tr>\n",
       "      <th>2</th>\n",
       "      <td>2/3/2008</td>\n",
       "      <td>21.6</td>\n",
       "      <td>24.5</td>\n",
       "      <td>6.6</td>\n",
       "      <td>2.4</td>\n",
       "      <td>0.1</td>\n",
       "      <td>W</td>\n",
       "      <td>41</td>\n",
       "      <td>ESE</td>\n",
       "      <td>ESE</td>\n",
       "      <td>...</td>\n",
       "      <td>88</td>\n",
       "      <td>86</td>\n",
       "      <td>1016.7</td>\n",
       "      <td>1015.6</td>\n",
       "      <td>7</td>\n",
       "      <td>8</td>\n",
       "      <td>23.5</td>\n",
       "      <td>23.0</td>\n",
       "      <td>Yes</td>\n",
       "      <td>Yes</td>\n",
       "    </tr>\n",
       "    <tr>\n",
       "      <th>3</th>\n",
       "      <td>2/4/2008</td>\n",
       "      <td>20.2</td>\n",
       "      <td>22.8</td>\n",
       "      <td>18.8</td>\n",
       "      <td>2.2</td>\n",
       "      <td>0.0</td>\n",
       "      <td>W</td>\n",
       "      <td>41</td>\n",
       "      <td>NNE</td>\n",
       "      <td>E</td>\n",
       "      <td>...</td>\n",
       "      <td>83</td>\n",
       "      <td>90</td>\n",
       "      <td>1014.2</td>\n",
       "      <td>1011.8</td>\n",
       "      <td>8</td>\n",
       "      <td>8</td>\n",
       "      <td>21.4</td>\n",
       "      <td>20.9</td>\n",
       "      <td>Yes</td>\n",
       "      <td>Yes</td>\n",
       "    </tr>\n",
       "    <tr>\n",
       "      <th>4</th>\n",
       "      <td>2/5/2008</td>\n",
       "      <td>19.7</td>\n",
       "      <td>25.7</td>\n",
       "      <td>77.4</td>\n",
       "      <td>4.8</td>\n",
       "      <td>0.0</td>\n",
       "      <td>W</td>\n",
       "      <td>41</td>\n",
       "      <td>NNE</td>\n",
       "      <td>W</td>\n",
       "      <td>...</td>\n",
       "      <td>88</td>\n",
       "      <td>74</td>\n",
       "      <td>1008.3</td>\n",
       "      <td>1004.8</td>\n",
       "      <td>8</td>\n",
       "      <td>8</td>\n",
       "      <td>22.5</td>\n",
       "      <td>25.5</td>\n",
       "      <td>Yes</td>\n",
       "      <td>Yes</td>\n",
       "    </tr>\n",
       "  </tbody>\n",
       "</table>\n",
       "<p>5 rows × 22 columns</p>\n",
       "</div>"
      ],
      "text/plain": [
       "       Date  MinTemp  MaxTemp  Rainfall  Evaporation  Sunshine WindGustDir  \\\n",
       "0  2/1/2008     19.5     22.4      15.6          6.2       0.0           W   \n",
       "1  2/2/2008     19.5     25.6       6.0          3.4       2.7           W   \n",
       "2  2/3/2008     21.6     24.5       6.6          2.4       0.1           W   \n",
       "3  2/4/2008     20.2     22.8      18.8          2.2       0.0           W   \n",
       "4  2/5/2008     19.7     25.7      77.4          4.8       0.0           W   \n",
       "\n",
       "   WindGustSpeed WindDir9am WindDir3pm  ...  Humidity9am  Humidity3pm  \\\n",
       "0             41          S        SSW  ...           92           84   \n",
       "1             41          W          E  ...           83           73   \n",
       "2             41        ESE        ESE  ...           88           86   \n",
       "3             41        NNE          E  ...           83           90   \n",
       "4             41        NNE          W  ...           88           74   \n",
       "\n",
       "   Pressure9am  Pressure3pm  Cloud9am  Cloud3pm  Temp9am  Temp3pm  RainToday  \\\n",
       "0       1017.6       1017.4         8         8     20.7     20.9        Yes   \n",
       "1       1017.9       1016.4         7         7     22.4     24.8        Yes   \n",
       "2       1016.7       1015.6         7         8     23.5     23.0        Yes   \n",
       "3       1014.2       1011.8         8         8     21.4     20.9        Yes   \n",
       "4       1008.3       1004.8         8         8     22.5     25.5        Yes   \n",
       "\n",
       "   RainTomorrow  \n",
       "0           Yes  \n",
       "1           Yes  \n",
       "2           Yes  \n",
       "3           Yes  \n",
       "4           Yes  \n",
       "\n",
       "[5 rows x 22 columns]"
      ]
     },
     "execution_count": 4,
     "metadata": {},
     "output_type": "execute_result"
    }
   ],
   "source": [
    "df = pd.read_csv('https://cf-courses-data.s3.us.cloud-object-storage.appdomain.cloud/IBMDeveloperSkillsNetwork-ML0101EN-SkillUp/labs/ML-FinalAssignment/Weather_Data.csv')\n",
    "\n",
    "df.head()"
   ]
  },
  {
   "cell_type": "markdown",
   "metadata": {},
   "source": [
    "### Data Preprocessing\n"
   ]
  },
  {
   "cell_type": "markdown",
   "metadata": {},
   "source": [
    "#### Transforming Categorical Variables\n"
   ]
  },
  {
   "cell_type": "markdown",
   "metadata": {},
   "source": [
    "First, we need to convert categorical variables to binary variables. We will use pandas `get_dummies()` method for this.\n"
   ]
  },
  {
   "cell_type": "code",
   "execution_count": 5,
   "metadata": {},
   "outputs": [],
   "source": [
    "df_sydney_processed = pd.get_dummies(data=df, columns=['RainToday', 'WindGustDir', 'WindDir9am', 'WindDir3pm'])"
   ]
  },
  {
   "cell_type": "markdown",
   "metadata": {},
   "source": [
    "Next, we replace the values of the 'RainTomorrow' column changing them from a categorical column to a binary column. We do not use the `get_dummies` method because we would end up with two columns for 'RainTomorrow' and we do not want, since 'RainTomorrow' is our target.\n"
   ]
  },
  {
   "cell_type": "code",
   "execution_count": 6,
   "metadata": {},
   "outputs": [],
   "source": [
    "df_sydney_processed.replace(['No', 'Yes'], [0,1], inplace=True)"
   ]
  },
  {
   "cell_type": "markdown",
   "metadata": {},
   "source": [
    "### Training Data and Test Data\n"
   ]
  },
  {
   "cell_type": "markdown",
   "metadata": {},
   "source": [
    "Now, we set our 'features' or x values and our Y or target variable.\n"
   ]
  },
  {
   "cell_type": "code",
   "execution_count": 7,
   "metadata": {},
   "outputs": [],
   "source": [
    "df_sydney_processed.drop('Date',axis=1,inplace=True)"
   ]
  },
  {
   "cell_type": "code",
   "execution_count": 8,
   "metadata": {},
   "outputs": [],
   "source": [
    "df_sydney_processed = df_sydney_processed.astype(float)"
   ]
  },
  {
   "cell_type": "code",
   "execution_count": 9,
   "metadata": {},
   "outputs": [],
   "source": [
    "features = df_sydney_processed.drop(columns='RainTomorrow', axis=1)\n",
    "Y = df_sydney_processed['RainTomorrow']"
   ]
  },
  {
   "cell_type": "markdown",
   "metadata": {},
   "source": [
    "### Linear Regression\n"
   ]
  },
  {
   "cell_type": "markdown",
   "metadata": {},
   "source": [
    "#### Q1) Use the `train_test_split` function to split the `features` and `Y` dataframes with a `test_size` of `0.2` and the `random_state` set to `10`.\n"
   ]
  },
  {
   "cell_type": "code",
   "execution_count": 10,
   "metadata": {},
   "outputs": [],
   "source": [
    "#Enter Your Code, Execute and take the Screenshot"
   ]
  },
  {
   "cell_type": "code",
   "execution_count": 11,
   "metadata": {},
   "outputs": [],
   "source": [
    "x_train, x_test, y_train, y_test = train_test_split(features, Y, test_size=0.2, random_state=10)"
   ]
  },
  {
   "cell_type": "markdown",
   "metadata": {},
   "source": [
    "#### Q2) Create and train a Linear Regression model called LinearReg using the training data (`x_train`, `y_train`).\n"
   ]
  },
  {
   "cell_type": "code",
   "execution_count": 12,
   "metadata": {},
   "outputs": [],
   "source": [
    "#Enter Your Code, Execute and take the Screenshot"
   ]
  },
  {
   "cell_type": "code",
   "execution_count": 13,
   "metadata": {},
   "outputs": [
    {
     "data": {
      "text/html": [
       "<style>#sk-container-id-1 {color: black;background-color: white;}#sk-container-id-1 pre{padding: 0;}#sk-container-id-1 div.sk-toggleable {background-color: white;}#sk-container-id-1 label.sk-toggleable__label {cursor: pointer;display: block;width: 100%;margin-bottom: 0;padding: 0.3em;box-sizing: border-box;text-align: center;}#sk-container-id-1 label.sk-toggleable__label-arrow:before {content: \"▸\";float: left;margin-right: 0.25em;color: #696969;}#sk-container-id-1 label.sk-toggleable__label-arrow:hover:before {color: black;}#sk-container-id-1 div.sk-estimator:hover label.sk-toggleable__label-arrow:before {color: black;}#sk-container-id-1 div.sk-toggleable__content {max-height: 0;max-width: 0;overflow: hidden;text-align: left;background-color: #f0f8ff;}#sk-container-id-1 div.sk-toggleable__content pre {margin: 0.2em;color: black;border-radius: 0.25em;background-color: #f0f8ff;}#sk-container-id-1 input.sk-toggleable__control:checked~div.sk-toggleable__content {max-height: 200px;max-width: 100%;overflow: auto;}#sk-container-id-1 input.sk-toggleable__control:checked~label.sk-toggleable__label-arrow:before {content: \"▾\";}#sk-container-id-1 div.sk-estimator input.sk-toggleable__control:checked~label.sk-toggleable__label {background-color: #d4ebff;}#sk-container-id-1 div.sk-label input.sk-toggleable__control:checked~label.sk-toggleable__label {background-color: #d4ebff;}#sk-container-id-1 input.sk-hidden--visually {border: 0;clip: rect(1px 1px 1px 1px);clip: rect(1px, 1px, 1px, 1px);height: 1px;margin: -1px;overflow: hidden;padding: 0;position: absolute;width: 1px;}#sk-container-id-1 div.sk-estimator {font-family: monospace;background-color: #f0f8ff;border: 1px dotted black;border-radius: 0.25em;box-sizing: border-box;margin-bottom: 0.5em;}#sk-container-id-1 div.sk-estimator:hover {background-color: #d4ebff;}#sk-container-id-1 div.sk-parallel-item::after {content: \"\";width: 100%;border-bottom: 1px solid gray;flex-grow: 1;}#sk-container-id-1 div.sk-label:hover label.sk-toggleable__label {background-color: #d4ebff;}#sk-container-id-1 div.sk-serial::before {content: \"\";position: absolute;border-left: 1px solid gray;box-sizing: border-box;top: 0;bottom: 0;left: 50%;z-index: 0;}#sk-container-id-1 div.sk-serial {display: flex;flex-direction: column;align-items: center;background-color: white;padding-right: 0.2em;padding-left: 0.2em;position: relative;}#sk-container-id-1 div.sk-item {position: relative;z-index: 1;}#sk-container-id-1 div.sk-parallel {display: flex;align-items: stretch;justify-content: center;background-color: white;position: relative;}#sk-container-id-1 div.sk-item::before, #sk-container-id-1 div.sk-parallel-item::before {content: \"\";position: absolute;border-left: 1px solid gray;box-sizing: border-box;top: 0;bottom: 0;left: 50%;z-index: -1;}#sk-container-id-1 div.sk-parallel-item {display: flex;flex-direction: column;z-index: 1;position: relative;background-color: white;}#sk-container-id-1 div.sk-parallel-item:first-child::after {align-self: flex-end;width: 50%;}#sk-container-id-1 div.sk-parallel-item:last-child::after {align-self: flex-start;width: 50%;}#sk-container-id-1 div.sk-parallel-item:only-child::after {width: 0;}#sk-container-id-1 div.sk-dashed-wrapped {border: 1px dashed gray;margin: 0 0.4em 0.5em 0.4em;box-sizing: border-box;padding-bottom: 0.4em;background-color: white;}#sk-container-id-1 div.sk-label label {font-family: monospace;font-weight: bold;display: inline-block;line-height: 1.2em;}#sk-container-id-1 div.sk-label-container {text-align: center;}#sk-container-id-1 div.sk-container {/* jupyter's `normalize.less` sets `[hidden] { display: none; }` but bootstrap.min.css set `[hidden] { display: none !important; }` so we also need the `!important` here to be able to override the default hidden behavior on the sphinx rendered scikit-learn.org. See: https://github.com/scikit-learn/scikit-learn/issues/21755 */display: inline-block !important;position: relative;}#sk-container-id-1 div.sk-text-repr-fallback {display: none;}</style><div id=\"sk-container-id-1\" class=\"sk-top-container\"><div class=\"sk-text-repr-fallback\"><pre>LinearRegression()</pre><b>In a Jupyter environment, please rerun this cell to show the HTML representation or trust the notebook. <br />On GitHub, the HTML representation is unable to render, please try loading this page with nbviewer.org.</b></div><div class=\"sk-container\" hidden><div class=\"sk-item\"><div class=\"sk-estimator sk-toggleable\"><input class=\"sk-toggleable__control sk-hidden--visually\" id=\"sk-estimator-id-1\" type=\"checkbox\" checked><label for=\"sk-estimator-id-1\" class=\"sk-toggleable__label sk-toggleable__label-arrow\">LinearRegression</label><div class=\"sk-toggleable__content\"><pre>LinearRegression()</pre></div></div></div></div></div>"
      ],
      "text/plain": [
       "LinearRegression()"
      ]
     },
     "execution_count": 13,
     "metadata": {},
     "output_type": "execute_result"
    }
   ],
   "source": [
    "LinearReg = LinearRegression()\n",
    "LinearReg.fit(x_train, y_train)"
   ]
  },
  {
   "cell_type": "markdown",
   "metadata": {},
   "source": [
    "#### Q3) Now use the `predict` method on the testing data (`x_test`) and save it to the array `predictions`.\n"
   ]
  },
  {
   "cell_type": "code",
   "execution_count": 14,
   "metadata": {},
   "outputs": [],
   "source": [
    "#Enter Your Code, Execute and take the Screenshot"
   ]
  },
  {
   "cell_type": "code",
   "execution_count": 15,
   "metadata": {},
   "outputs": [
    {
     "data": {
      "text/plain": [
       "array([ 1.31782532e-01,  2.76153564e-01,  9.78088379e-01,  2.87483215e-01,\n",
       "        1.32377625e-01,  4.60464478e-01,  3.56773376e-01,  8.56460571e-01,\n",
       "        6.75010681e-01,  3.82766724e-02,  4.82940674e-03,  2.81181335e-01,\n",
       "        3.39042664e-01,  7.80868530e-02,  6.26449585e-02,  5.64521790e-01,\n",
       "       -6.15615845e-02,  5.24208069e-01,  1.53785706e-01,  3.59672546e-01,\n",
       "        6.05087280e-02,  9.03572083e-01,  4.67338562e-01,  2.03323364e-01,\n",
       "       -7.10830688e-02,  3.83865356e-01,  5.36071777e-01, -2.28652954e-02,\n",
       "        6.40052795e-01, -9.56726074e-02,  3.78089905e-01,  1.20277405e-01,\n",
       "       -1.81350708e-02,  5.53970337e-02,  5.63514709e-01,  1.06302643e+00,\n",
       "       -6.73675537e-03,  5.14488220e-01, -8.83865356e-02,  6.92062378e-02,\n",
       "        2.44827271e-02,  8.71726990e-01,  2.44621277e-01,  3.94760132e-01,\n",
       "        2.67494202e-01,  4.46762085e-01, -4.75540161e-02,  1.89407349e-01,\n",
       "        7.76573181e-01,  1.57707214e-01,  3.91387939e-03, -5.19638062e-02,\n",
       "        2.07328796e-01, -2.07908630e-01, -7.60879517e-02,  2.49641418e-01,\n",
       "        2.79273987e-01,  6.02851868e-01,  6.29592896e-01,  4.90715027e-01,\n",
       "        5.63888550e-02,  1.05461121e-01,  6.69990540e-01,  7.64839172e-01,\n",
       "        9.84802246e-02, -6.33010864e-02,  4.13795471e-01,  7.26165771e-02,\n",
       "        2.49977112e-01,  2.56477356e-01,  3.78570557e-02, -6.88705444e-02,\n",
       "        3.48220825e-01,  1.73110962e-01,  4.15390015e-01, -7.24411011e-02,\n",
       "        3.41178894e-01,  1.86973572e-01, -1.54838562e-01,  7.99736023e-01,\n",
       "        2.32406616e-01,  2.37342834e-01,  2.56103516e-01,  1.03439331e-01,\n",
       "        6.20689392e-01,  1.29676819e-01,  3.71398926e-01,  4.83024597e-01,\n",
       "        3.08250427e-01,  1.19438171e-01,  5.48324585e-02,  1.12785339e-01,\n",
       "       -1.62445068e-01, -1.57966614e-01,  7.28530884e-02,  7.76443481e-01,\n",
       "        8.42971802e-02,  6.43096924e-01,  1.21810913e-01,  1.78077698e-01,\n",
       "        3.04893494e-01,  1.85523987e-01,  1.13146210e+00,  3.44383240e-01,\n",
       "        8.26858521e-01,  5.38887024e-01,  2.74291992e-01,  6.29371643e-01,\n",
       "       -6.72454834e-02,  9.63615417e-01,  5.61912537e-01,  2.34298706e-02,\n",
       "        1.05628967e-01,  9.38644409e-02,  8.15734863e-02,  2.92030334e-01,\n",
       "        5.55122375e-01,  6.69174194e-02,  4.25491333e-02,  9.15527344e-04,\n",
       "        1.37611389e-01, -2.18009949e-01,  7.01370239e-02,  1.19743347e-01,\n",
       "        1.92710876e-01, -3.83148193e-02,  1.55982971e-01,  7.12615967e-01,\n",
       "        2.62329102e-01,  5.34835815e-01,  3.97834778e-01, -4.65545654e-02,\n",
       "        2.43972778e-01,  2.06321716e-01,  2.80395508e-01, -1.28204346e-01,\n",
       "        1.19529724e-01,  3.83377075e-01,  1.84379578e-01,  7.28614807e-01,\n",
       "        3.31779480e-01, -1.03202820e-01,  2.39532471e-01,  3.05999756e-01,\n",
       "        6.63154602e-01,  2.21633911e-02,  1.60064697e-01,  5.21621704e-01,\n",
       "       -4.34417725e-02,  7.98316956e-01,  2.21687317e-01,  3.89877319e-01,\n",
       "       -5.63583374e-02,  4.02343750e-01,  2.34130859e-01,  1.20452881e-01,\n",
       "        3.05458069e-01,  7.86186218e-01,  3.32870483e-02,  1.22553253e+00,\n",
       "        8.94706726e-01,  8.18176270e-02, -1.51977539e-02,  1.71012878e-01,\n",
       "       -6.85882568e-02, -1.07826233e-01, -5.01937866e-02,  2.98667908e-01,\n",
       "        3.57048035e-01,  9.57412720e-02,  8.85307312e-01, -3.33786011e-02,\n",
       "        5.99205017e-01,  8.94927979e-02,  9.83657837e-02,  3.54164124e-01,\n",
       "        2.35893250e-01, -6.72836304e-02,  1.44309998e-01,  4.17808533e-01,\n",
       "        5.87440491e-01,  2.16773987e-01, -3.32717896e-02,  1.00634766e+00,\n",
       "        4.25872803e-02, -1.74026489e-02,  2.48222351e-01, -5.93338013e-02,\n",
       "        2.22259521e-01, -7.19223022e-02,  8.47396851e-02,  7.15713501e-02,\n",
       "        3.49349976e-02,  4.43504333e-01,  1.86744690e-01,  1.83174133e-01,\n",
       "        7.56149292e-02,  1.36947632e-02,  1.84654236e-01,  2.32337952e-01,\n",
       "        5.30570984e-01,  1.60308838e-01,  3.95248413e-01, -4.48989868e-02,\n",
       "        8.39263916e-01,  1.65863037e-02, -1.70288086e-02, -2.14080811e-02,\n",
       "        1.46392822e-01,  1.38114929e-01, -3.35006714e-02,  4.14924622e-01,\n",
       "        6.57295227e-01, -4.89044189e-03,  2.86331177e-02,  4.61502075e-02,\n",
       "       -7.21664429e-02,  2.73780823e-01,  5.28648376e-01, -5.90286255e-02,\n",
       "        8.43177795e-01,  3.25874329e-01,  3.18893433e-01,  3.63616943e-02,\n",
       "       -8.51821899e-02,  2.83226013e-01,  3.01261902e-01,  1.37733459e-01,\n",
       "        3.35823059e-01,  4.12498474e-01,  3.75244141e-01,  1.24153137e-01,\n",
       "        2.87879944e-01,  9.06158447e-01,  4.45510864e-01,  2.74833679e-01,\n",
       "       -6.66046143e-03,  6.91795349e-01,  6.71966553e-01,  1.15348816e-01,\n",
       "        7.74536133e-01,  9.94400024e-01,  5.87608337e-01,  3.14361572e-01,\n",
       "        2.26425171e-01, -4.47082520e-02,  2.26020813e-01,  2.30567932e-01,\n",
       "        3.54957581e-01, -1.26609802e-01,  3.53012085e-02,  1.82228088e-01,\n",
       "        2.15400696e-01,  1.76094055e-01, -2.96478271e-02,  1.00051880e+00,\n",
       "        1.88224792e-01,  7.52113342e-01,  6.19873047e-01,  7.17811584e-01,\n",
       "        3.15574646e-01,  2.23617554e-02,  3.26393127e-01, -6.88934326e-03,\n",
       "        2.81578064e-01, -2.27432251e-02,  7.98339844e-02, -2.37274170e-03,\n",
       "        3.57124329e-01,  1.36497498e-01,  2.65785217e-01,  1.40151978e-02,\n",
       "        2.21122742e-01,  7.07374573e-01,  1.59515381e-01,  2.04536438e-01,\n",
       "        5.38299561e-01, -1.52595520e-01,  2.54798889e-01,  2.76359558e-01,\n",
       "        2.64022827e-01,  6.69326782e-02,  9.74380493e-01,  2.00012207e-01,\n",
       "        7.55783081e-01, -3.49960327e-02,  4.87709045e-01,  5.89752197e-03,\n",
       "       -7.24411011e-02,  3.05664062e-01, -2.05085754e-01,  1.90986633e-01,\n",
       "       -2.46047974e-02, -7.71484375e-02,  2.78923035e-01,  7.84225464e-02,\n",
       "        2.33840942e-01,  4.44847107e-01,  6.62460327e-02, -3.31573486e-02,\n",
       "        5.83091736e-01,  5.78460693e-02,  3.20503235e-01,  7.24166870e-01,\n",
       "        1.35353088e-01, -2.21786499e-02,  7.33055115e-01, -3.08296204e-01,\n",
       "        1.09135437e+00,  2.85949707e-01,  8.85025024e-01,  6.96632385e-01,\n",
       "        5.85266113e-01, -2.22396851e-02,  9.52064514e-01,  7.14958191e-01,\n",
       "        4.48501587e-01,  5.80467224e-01,  1.87095642e-01,  2.29614258e-01,\n",
       "       -5.77468872e-02,  3.15238953e-01,  8.74656677e-01, -1.67694092e-02,\n",
       "        2.52609253e-01, -3.34930420e-02, -4.39987183e-02,  4.13589478e-02,\n",
       "        2.35946655e-01,  2.03071594e-01,  8.81996155e-01,  5.87257385e-01,\n",
       "        1.20094299e-01, -2.02865601e-02, -1.92718506e-02,  1.03446960e-01,\n",
       "        8.26263428e-03,  2.29148865e-01, -1.69754028e-02,  7.15484619e-02,\n",
       "        1.62742615e-01,  1.70097351e-01,  2.46543884e-01,  1.47781372e-01,\n",
       "        3.91838074e-01, -6.66122437e-02,  1.15684509e-01,  1.84471130e-01,\n",
       "        9.07058716e-02, -1.80282593e-02,  2.09297180e-01, -1.30462646e-02,\n",
       "        5.46470642e-01,  4.15779114e-01,  1.78169250e-01,  1.72042847e-02,\n",
       "        4.93850708e-01,  1.47155762e-01,  5.24894714e-01,  5.98114014e-01,\n",
       "        3.08280945e-01,  3.09295654e-01,  4.46388245e-01,  1.68220520e-01,\n",
       "        2.60719299e-01,  7.56401062e-01,  4.06272888e-01,  4.90669250e-01,\n",
       "        5.14297485e-01, -1.30180359e-01,  7.90176392e-02,  3.50608826e-01,\n",
       "        1.00466919e+00,  2.73452759e-01,  6.35429382e-01,  5.78605652e-01,\n",
       "        4.68185425e-01,  3.74603271e-03,  3.59062195e-01,  6.74667358e-02,\n",
       "       -4.23889160e-02,  7.03315735e-01,  1.27159119e-01,  8.00025940e-01,\n",
       "        4.70840454e-01, -1.74484253e-02,  2.93350220e-02,  5.55259705e-01,\n",
       "        5.01327515e-02,  1.15348816e-01, -9.69696045e-03,  1.47483826e-01,\n",
       "        4.71153259e-01, -9.27658081e-02,  8.09402466e-02,  3.10745239e-02,\n",
       "        3.94844055e-01,  2.23731995e-01,  1.00329590e+00,  7.08076477e-01,\n",
       "        3.56101990e-01,  2.62931824e-01, -2.83889771e-02, -9.58251953e-03,\n",
       "        3.09677124e-02,  1.41662598e-01,  7.82546997e-02,  5.12550354e-01,\n",
       "        2.04780579e-01,  3.11676025e-01,  5.28495789e-01,  4.61898804e-01,\n",
       "        5.35964966e-02,  8.17260742e-01,  5.33927917e-01, -1.38145447e-01,\n",
       "        5.09429932e-01,  1.94168091e-01,  4.56214905e-01,  1.85157776e-01,\n",
       "        2.21946716e-01,  1.15570068e-01,  6.33010864e-02,  7.36923218e-02,\n",
       "        1.02340698e-01,  5.51345825e-01,  7.02964783e-01,  5.22079468e-01,\n",
       "        5.35041809e-01,  3.19290161e-02,  1.11122131e-01, -1.18644714e-01,\n",
       "        5.31913757e-01, -1.74400330e-01,  4.54521179e-01,  9.74418640e-01,\n",
       "        4.18205261e-01, -1.16004944e-01,  8.70658875e-01,  1.62162781e-01,\n",
       "        6.13059998e-01,  3.17138672e-01, -7.86209106e-02,  4.93980408e-01,\n",
       "        7.44834900e-01,  6.05392456e-02,  6.03713989e-02,  2.36778259e-01,\n",
       "        5.79223633e-01,  1.10740662e-01,  3.81782532e-01,  6.02279663e-01,\n",
       "        5.84182739e-02,  2.21824646e-01,  3.88992310e-01,  6.63612366e-01,\n",
       "        1.56120300e-01,  3.97300720e-01,  5.80154419e-01,  5.03753662e-01,\n",
       "        1.06445312e-01,  1.49841309e-01,  2.33238220e-01, -3.34167480e-03,\n",
       "       -2.85873413e-02,  2.65953064e-01,  2.60597229e-01, -6.16302490e-02,\n",
       "        1.46217346e-01,  8.24829102e-01,  5.68481445e-01, -9.56268311e-02,\n",
       "       -1.02455139e-01,  8.50067139e-02,  1.61598206e-01, -7.92617798e-02,\n",
       "        9.43962097e-01,  7.94296265e-02,  3.38417053e-01,  1.57981873e-01,\n",
       "       -6.92901611e-02,  2.15110779e-01,  4.78790283e-01,  2.15377808e-02,\n",
       "        5.34416199e-01,  1.42539978e-01, -1.58424377e-01,  1.00021362e-02,\n",
       "        2.26768494e-01,  3.34747314e-01,  6.04705811e-02, -2.08816528e-02,\n",
       "       -1.07841492e-01,  3.34335327e-01,  5.10124207e-01,  3.45932007e-01,\n",
       "       -8.66928101e-02, -4.99572754e-02,  5.05302429e-01,  8.22601318e-02,\n",
       "        6.74285889e-02,  3.23204041e-01,  3.38134766e-01,  5.37300110e-01,\n",
       "        2.91786194e-01,  3.30497742e-01, -4.09545898e-02,  8.27468872e-01,\n",
       "        6.03424072e-01,  2.36755371e-01,  7.02346802e-01,  4.44656372e-01,\n",
       "        5.81176758e-01,  1.90055847e-01,  5.45578003e-02,  9.38339233e-02,\n",
       "       -6.76956177e-02,  1.05995178e-01, -2.49252319e-02, -2.94113159e-02,\n",
       "        6.56051636e-02,  9.61074829e-02,  1.03271484e-01,  1.77772522e-01,\n",
       "        1.02096558e-01,  6.64031982e-01,  1.97700500e-01,  1.04774475e-01,\n",
       "        1.13456726e-01, -3.24630737e-02,  1.46598816e-01,  4.64958191e-01,\n",
       "        7.55508423e-01,  2.03941345e-01,  4.90135193e-01, -1.01310730e-01,\n",
       "        6.61643982e-01,  7.53471375e-01,  9.01084900e-01,  7.72949219e-01,\n",
       "        2.73429871e-01,  2.98088074e-01,  1.87126160e-01,  7.19902039e-01,\n",
       "        2.29797363e-01,  3.34632874e-01,  8.51608276e-01,  3.06320190e-02,\n",
       "       -3.72314453e-03, -7.81478882e-02,  7.49839783e-01,  2.04597473e-01,\n",
       "        4.06028748e-01,  3.32359314e-01,  1.81953430e-01,  8.23410034e-01,\n",
       "        5.03158569e-01,  6.34071350e-01, -5.07736206e-02,  4.25796509e-02,\n",
       "        1.11099243e-01,  1.89201355e-01,  6.00975037e-01,  4.09095764e-01,\n",
       "        6.87751770e-01,  2.89863586e-01, -9.21096802e-02,  4.46624756e-02,\n",
       "        1.98905945e-01,  6.18957520e-01,  1.41899109e-01,  6.98921204e-01,\n",
       "        3.11897278e-01,  1.26914978e-01,  8.11447144e-01,  6.24542236e-02,\n",
       "       -1.04484558e-01,  6.60018921e-02,  1.23748779e-01,  5.18707275e-01,\n",
       "       -5.96847534e-02,  6.39770508e-01, -1.30081177e-02,  3.84140015e-02,\n",
       "       -1.04942322e-01,  1.96571350e-01,  3.36097717e-01,  4.87998962e-01,\n",
       "        1.93817139e-01,  7.93266296e-01,  1.69387817e-01,  8.55941772e-02,\n",
       "        1.68647766e-01,  1.73156738e-01,  3.23867798e-02,  4.69230652e-01,\n",
       "        2.03071594e-01,  8.46679688e-01,  4.20898438e-01,  2.17918396e-01,\n",
       "        1.81129456e-01,  1.54930115e-01,  7.26310730e-01,  4.45205688e-01,\n",
       "        4.87533569e-01,  1.01577759e-01,  4.13154602e-01, -1.13243103e-01,\n",
       "        1.79405212e-01, -9.75036621e-03,  1.39091492e-01,  1.12022400e-01,\n",
       "        6.09596252e-01,  2.16674805e-02,  1.88301086e-01, -1.35353088e-01,\n",
       "        7.06481934e-01,  4.33082581e-01, -5.83572388e-02,  9.28695679e-01,\n",
       "        5.40626526e-01, -1.65557861e-03,  9.19029236e-01, -2.18505859e-02,\n",
       "        1.65367126e-01,  1.77780151e-01,  4.72900391e-01, -2.81524658e-03,\n",
       "        4.00382996e-01,  1.42211914e-02,  1.95396423e-01, -6.79855347e-02,\n",
       "        5.87219238e-01,  1.92474365e-01,  2.33268738e-01,  2.73651123e-01,\n",
       "        9.40742493e-01,  7.10136414e-01,  1.33438110e-01,  7.37457275e-02,\n",
       "        5.58242798e-02, -2.26371765e-01,  4.10919189e-02,  5.16891479e-02,\n",
       "        3.09066772e-02,  2.93563843e-01,  9.69337463e-01,  7.98675537e-01,\n",
       "       -2.29568481e-02,  5.26657104e-02,  2.64755249e-01,  1.75148010e-01,\n",
       "        7.06344604e-01,  1.73805237e-01,  3.44337463e-01])"
      ]
     },
     "execution_count": 15,
     "metadata": {},
     "output_type": "execute_result"
    }
   ],
   "source": [
    "predictions = LinearReg.predict(x_test)\n",
    "predictions"
   ]
  },
  {
   "cell_type": "markdown",
   "metadata": {},
   "source": [
    "#### Q4) Using the `predictions` and the `y_test` dataframe calculate the value for each metric using the appropriate function.\n"
   ]
  },
  {
   "cell_type": "code",
   "execution_count": 16,
   "metadata": {},
   "outputs": [],
   "source": [
    "#Enter Your Code, Execute and take the Screenshot"
   ]
  },
  {
   "cell_type": "code",
   "execution_count": 17,
   "metadata": {},
   "outputs": [],
   "source": [
    "LinearRegression_MAE = np.mean(np.absolute(predictions-y_test))\n",
    "LinearRegression_MSE = np.mean((predictions-y_test)**2)\n",
    "LinearRegression_R2 = metrics.r2_score(y_test, predictions)"
   ]
  },
  {
   "cell_type": "markdown",
   "metadata": {},
   "source": [
    "#### Q5) Show the MAE, MSE, and R2 in a tabular format using data frame for the linear model.\n"
   ]
  },
  {
   "cell_type": "code",
   "execution_count": 18,
   "metadata": {},
   "outputs": [],
   "source": [
    "#Enter Your Code, Execute and take the Screenshot"
   ]
  },
  {
   "cell_type": "code",
   "execution_count": 19,
   "metadata": {},
   "outputs": [
    {
     "data": {
      "text/html": [
       "<div>\n",
       "<style scoped>\n",
       "    .dataframe tbody tr th:only-of-type {\n",
       "        vertical-align: middle;\n",
       "    }\n",
       "\n",
       "    .dataframe tbody tr th {\n",
       "        vertical-align: top;\n",
       "    }\n",
       "\n",
       "    .dataframe thead th {\n",
       "        text-align: right;\n",
       "    }\n",
       "</style>\n",
       "<table border=\"1\" class=\"dataframe\">\n",
       "  <thead>\n",
       "    <tr style=\"text-align: right;\">\n",
       "      <th></th>\n",
       "      <th>MAE</th>\n",
       "      <th>MSE</th>\n",
       "      <th>R2</th>\n",
       "    </tr>\n",
       "  </thead>\n",
       "  <tbody>\n",
       "    <tr>\n",
       "      <th>0</th>\n",
       "      <td>0.256319</td>\n",
       "      <td>0.115723</td>\n",
       "      <td>0.427121</td>\n",
       "    </tr>\n",
       "  </tbody>\n",
       "</table>\n",
       "</div>"
      ],
      "text/plain": [
       "        MAE       MSE        R2\n",
       "0  0.256319  0.115723  0.427121"
      ]
     },
     "execution_count": 19,
     "metadata": {},
     "output_type": "execute_result"
    }
   ],
   "source": [
    "Report = pd.DataFrame({'MAE':[LinearRegression_MAE], 'MSE':[LinearRegression_MSE], 'R2':[LinearRegression_R2]})\n",
    "Report"
   ]
  },
  {
   "cell_type": "markdown",
   "metadata": {},
   "source": [
    "### KNN\n"
   ]
  },
  {
   "cell_type": "markdown",
   "metadata": {},
   "source": [
    "#### Q6) Create and train a KNN model called KNN using the training data (`x_train`, `y_train`) with the `n_neighbors` parameter set to `4`.\n"
   ]
  },
  {
   "cell_type": "code",
   "execution_count": 20,
   "metadata": {},
   "outputs": [],
   "source": [
    "#Enter Your Code, Execute and take the Screenshot"
   ]
  },
  {
   "cell_type": "code",
   "execution_count": 21,
   "metadata": {},
   "outputs": [],
   "source": [
    "KNN = KNeighborsClassifier(n_neighbors=4).fit(x_train,y_train)"
   ]
  },
  {
   "cell_type": "markdown",
   "metadata": {},
   "source": [
    "#### Q7) Now use the `predict` method on the testing data (`x_test`) and save it to the array `predictions`.\n"
   ]
  },
  {
   "cell_type": "code",
   "execution_count": 22,
   "metadata": {},
   "outputs": [],
   "source": [
    "#Enter Your Code, Execute and take the Screenshot"
   ]
  },
  {
   "cell_type": "code",
   "execution_count": 23,
   "metadata": {},
   "outputs": [],
   "source": [
    "predictions = KNN.predict(x_test)"
   ]
  },
  {
   "cell_type": "markdown",
   "metadata": {},
   "source": [
    "#### Q8) Using the `predictions` and the `y_test` dataframe calculate the value for each metric using the appropriate function.\n"
   ]
  },
  {
   "cell_type": "code",
   "execution_count": 24,
   "metadata": {},
   "outputs": [],
   "source": [
    "#Enter Your Code, Execute and take the Screenshot"
   ]
  },
  {
   "cell_type": "code",
   "execution_count": 25,
   "metadata": {},
   "outputs": [],
   "source": [
    "KNN_Accuracy_Score = metrics.accuracy_score(y_test, predictions)\n",
    "KNN_JaccardIndex = jaccard_score(y_test,predictions)\n",
    "KNN_F1_Score = f1_score(y_test,predictions)"
   ]
  },
  {
   "cell_type": "markdown",
   "metadata": {},
   "source": [
    "### Decision Tree\n"
   ]
  },
  {
   "cell_type": "markdown",
   "metadata": {},
   "source": [
    "#### Q9) Create and train a Decision Tree model called Tree using the training data (`x_train`, `y_train`).\n"
   ]
  },
  {
   "cell_type": "code",
   "execution_count": 26,
   "metadata": {},
   "outputs": [],
   "source": [
    "#Enter Your Code, Execute and take the Screenshot"
   ]
  },
  {
   "cell_type": "code",
   "execution_count": 27,
   "metadata": {},
   "outputs": [],
   "source": [
    "Tree = DecisionTreeClassifier().fit(x_train, y_train)"
   ]
  },
  {
   "cell_type": "markdown",
   "metadata": {},
   "source": [
    "#### Q10) Now use the `predict` method on the testing data (`x_test`) and save it to the array `predictions`.\n"
   ]
  },
  {
   "cell_type": "code",
   "execution_count": 28,
   "metadata": {},
   "outputs": [],
   "source": [
    "#Enter Your Code, Execute and take the Screenshot"
   ]
  },
  {
   "cell_type": "code",
   "execution_count": 29,
   "metadata": {},
   "outputs": [],
   "source": [
    "predictions = Tree.predict(x_test)"
   ]
  },
  {
   "cell_type": "markdown",
   "metadata": {},
   "source": [
    "#### Q11) Using the `predictions` and the `y_test` dataframe calculate the value for each metric using the appropriate function.\n"
   ]
  },
  {
   "cell_type": "code",
   "execution_count": 30,
   "metadata": {},
   "outputs": [],
   "source": [
    "#Enter Your Code, Execute and take the Screenshot"
   ]
  },
  {
   "cell_type": "code",
   "execution_count": 31,
   "metadata": {},
   "outputs": [],
   "source": [
    "Tree_Accuracy_Score = metrics.accuracy_score(y_test,predictions)\n",
    "Tree_JaccardIndex = jaccard_score(y_test,predictions)\n",
    "Tree_F1_Score = f1_score(y_test,predictions)"
   ]
  },
  {
   "cell_type": "markdown",
   "metadata": {},
   "source": [
    "### Logistic Regression\n"
   ]
  },
  {
   "cell_type": "markdown",
   "metadata": {},
   "source": [
    "#### Q12) Use the `train_test_split` function to split the `features` and `Y` dataframes with a `test_size` of `0.2` and the `random_state` set to `1`.\n"
   ]
  },
  {
   "cell_type": "code",
   "execution_count": 32,
   "metadata": {},
   "outputs": [],
   "source": [
    "#Enter Your Code, Execute and take the Screenshot"
   ]
  },
  {
   "cell_type": "code",
   "execution_count": 33,
   "metadata": {},
   "outputs": [],
   "source": [
    "x_train, x_test, y_train, y_test = train_test_split(features, Y, test_size=0.2, random_state=1)"
   ]
  },
  {
   "cell_type": "markdown",
   "metadata": {},
   "source": [
    "#### Q13) Create and train a LogisticRegression model called LR using the training data (`x_train`, `y_train`) with the `solver` parameter set to `liblinear`.\n"
   ]
  },
  {
   "cell_type": "code",
   "execution_count": 34,
   "metadata": {},
   "outputs": [],
   "source": [
    "#Enter Your Code, Execute and take the Screenshot"
   ]
  },
  {
   "cell_type": "code",
   "execution_count": 35,
   "metadata": {},
   "outputs": [],
   "source": [
    "LR = LogisticRegression(solver='liblinear').fit(x_train, y_train)"
   ]
  },
  {
   "cell_type": "markdown",
   "metadata": {},
   "source": [
    "#### Q14) Now, use the `predict` method on the testing data (`x_test`) and save it to the array `predictions`.\n"
   ]
  },
  {
   "cell_type": "code",
   "execution_count": 36,
   "metadata": {},
   "outputs": [],
   "source": [
    "#Enter Your Code, Execute and take the Screenshot"
   ]
  },
  {
   "cell_type": "code",
   "execution_count": 37,
   "metadata": {},
   "outputs": [],
   "source": [
    "predictions = LR.predict(x_test)"
   ]
  },
  {
   "cell_type": "markdown",
   "metadata": {},
   "source": [
    "#### Q15) Using the `predictions` and the `y_test` dataframe calculate the value for each metric using the appropriate function.\n"
   ]
  },
  {
   "cell_type": "code",
   "execution_count": 38,
   "metadata": {},
   "outputs": [],
   "source": [
    "#Enter Your Code, Execute and take the Screenshot"
   ]
  },
  {
   "cell_type": "code",
   "execution_count": 39,
   "metadata": {},
   "outputs": [],
   "source": [
    "LR_Accuracy_Score = metrics.accuracy_score(y_test, predictions)\n",
    "LR_JaccardIndex = jaccard_score(y_test, predictions)\n",
    "LR_F1_Score = f1_score(y_test, predictions)\n",
    "LR_Log_Loss = log_loss(y_test, LR.predict_proba(x_test))"
   ]
  },
  {
   "cell_type": "markdown",
   "metadata": {},
   "source": [
    "### SVM\n"
   ]
  },
  {
   "cell_type": "markdown",
   "metadata": {},
   "source": [
    "#### Q16) Create and train a SVM model called SVM using the training data (`x_train`, `y_train`).\n"
   ]
  },
  {
   "cell_type": "code",
   "execution_count": 40,
   "metadata": {},
   "outputs": [],
   "source": [
    "#Enter Your Code, Execute and take the Screenshot"
   ]
  },
  {
   "cell_type": "code",
   "execution_count": 41,
   "metadata": {},
   "outputs": [],
   "source": [
    "SVM = svm.SVC().fit(x_train, y_train)"
   ]
  },
  {
   "cell_type": "markdown",
   "metadata": {},
   "source": [
    "#### Q17) Now use the `predict` method on the testing data (`x_test`) and save it to the array `predictions`.\n"
   ]
  },
  {
   "cell_type": "code",
   "execution_count": 42,
   "metadata": {},
   "outputs": [],
   "source": [
    "#Enter Your Code, Execute and take the Screenshot"
   ]
  },
  {
   "cell_type": "code",
   "execution_count": 43,
   "metadata": {},
   "outputs": [],
   "source": [
    "predictions = SVM.predict(x_test)"
   ]
  },
  {
   "cell_type": "markdown",
   "metadata": {},
   "source": [
    "#### Q18) Using the `predictions` and the `y_test` dataframe calculate the value for each metric using the appropriate function.\n"
   ]
  },
  {
   "cell_type": "code",
   "execution_count": 44,
   "metadata": {},
   "outputs": [],
   "source": [
    "SVM_Accuracy_Score = metrics.accuracy_score(y_test, predictions)\n",
    "SVM_JaccardIndex = jaccard_score(y_test, predictions, pos_label=0)\n",
    "SVM_F1_Score = f1_score(y_test, predictions, average='weighted')"
   ]
  },
  {
   "cell_type": "markdown",
   "metadata": {},
   "source": [
    "### Report\n"
   ]
  },
  {
   "cell_type": "markdown",
   "metadata": {},
   "source": [
    "#### Q19) Show the Accuracy,Jaccard Index,F1-Score and LogLoss in a tabular format using data frame for all of the above models.\n",
    "\n",
    "\\*LogLoss is only for Logistic Regression Model\n"
   ]
  },
  {
   "cell_type": "code",
   "execution_count": 45,
   "metadata": {},
   "outputs": [],
   "source": [
    "#Enter Your Code, Execute and take the Screenshot"
   ]
  },
  {
   "cell_type": "code",
   "execution_count": 46,
   "metadata": {},
   "outputs": [
    {
     "data": {
      "text/html": [
       "<div>\n",
       "<style scoped>\n",
       "    .dataframe tbody tr th:only-of-type {\n",
       "        vertical-align: middle;\n",
       "    }\n",
       "\n",
       "    .dataframe tbody tr th {\n",
       "        vertical-align: top;\n",
       "    }\n",
       "\n",
       "    .dataframe thead th {\n",
       "        text-align: right;\n",
       "    }\n",
       "</style>\n",
       "<table border=\"1\" class=\"dataframe\">\n",
       "  <thead>\n",
       "    <tr style=\"text-align: right;\">\n",
       "      <th></th>\n",
       "      <th>KNN</th>\n",
       "      <th>Decision Tree</th>\n",
       "      <th>Logistic Regression</th>\n",
       "      <th>SVM</th>\n",
       "    </tr>\n",
       "  </thead>\n",
       "  <tbody>\n",
       "    <tr>\n",
       "      <th>Accuracy Score</th>\n",
       "      <td>0.818321</td>\n",
       "      <td>0.767939</td>\n",
       "      <td>0.835115</td>\n",
       "      <td>0.722137</td>\n",
       "    </tr>\n",
       "    <tr>\n",
       "      <th>Jaccard Index</th>\n",
       "      <td>0.425121</td>\n",
       "      <td>0.428571</td>\n",
       "      <td>0.504587</td>\n",
       "      <td>0.722137</td>\n",
       "    </tr>\n",
       "    <tr>\n",
       "      <th>F1 Score</th>\n",
       "      <td>0.59661</td>\n",
       "      <td>0.6</td>\n",
       "      <td>0.670732</td>\n",
       "      <td>0.605622</td>\n",
       "    </tr>\n",
       "    <tr>\n",
       "      <th>Log Loss</th>\n",
       "      <td>-</td>\n",
       "      <td>-</td>\n",
       "      <td>0.381427</td>\n",
       "      <td>-</td>\n",
       "    </tr>\n",
       "  </tbody>\n",
       "</table>\n",
       "</div>"
      ],
      "text/plain": [
       "                     KNN Decision Tree  Logistic Regression       SVM\n",
       "Accuracy Score  0.818321      0.767939             0.835115  0.722137\n",
       "Jaccard Index   0.425121      0.428571             0.504587  0.722137\n",
       "F1 Score         0.59661           0.6             0.670732  0.605622\n",
       "Log Loss               -             -             0.381427         -"
      ]
     },
     "execution_count": 46,
     "metadata": {},
     "output_type": "execute_result"
    }
   ],
   "source": [
    "Report = pd.DataFrame({'KNN': [KNN_Accuracy_Score, KNN_JaccardIndex, KNN_F1_Score, '-'],\n",
    "                        'Decision Tree': [Tree_Accuracy_Score, Tree_JaccardIndex, Tree_F1_Score, '-'],\n",
    "                        'Logistic Regression': [LR_Accuracy_Score, LR_JaccardIndex, LR_F1_Score, LR_Log_Loss],\n",
    "                        'SVM': [SVM_Accuracy_Score, SVM_JaccardIndex, SVM_F1_Score, '-']}, \n",
    "                      index = ['Accuracy Score', 'Jaccard Index', 'F1 Score', 'Log Loss'])\n",
    "Report"
   ]
  },
  {
   "cell_type": "markdown",
   "metadata": {},
   "source": [
    "<h2 id=\"Section_5\">  How to submit </h2>\n",
    "\n",
    "<p>Once you complete your notebook you will have to share it. You can download the notebook by navigating to \"File\" and clicking on \"Download\" button.\n",
    "\n",
    "<p>This will save the (.ipynb) file on your computer. Once saved, you can upload this file in the \"My Submission\" tab, of the \"Peer-graded Assignment\" section.  \n"
   ]
  },
  {
   "cell_type": "markdown",
   "metadata": {},
   "source": [
    "<h2>About the Authors:</h2> \n",
    "\n",
    "<a href=\"https://www.linkedin.com/in/joseph-s-50398b136/?utm_medium=Exinfluencer&utm_source=Exinfluencer&utm_content=000026UJ&utm_term=10006555&utm_id=NA-SkillsNetwork-Channel-SkillsNetworkCoursesIBMDeveloperSkillsNetworkML0101ENSkillsNetwork20718538-2022-01-01\">Joseph Santarcangelo</a> has a PhD in Electrical Engineering, his research focused on using machine learning, signal processing, and computer vision to determine how videos impact human cognition. Joseph has been working for IBM since he completed his PhD.\n",
    "\n",
    "### Other Contributors\n",
    "\n",
    "<a href=\"https://www.linkedin.com/in/birlahimanshu/?utm_medium=Exinfluencer&utm_source=Exinfluencer&utm_content=000026UJ&utm_term=10006555&utm_id=NA-SkillsNetwork-Channel-SkillsNetworkCoursesIBMDeveloperSkillsNetworkML0101ENSkillsNetwork20718538-2022-01-01\" target=\"_blank\">Himanshu Birla</a>\n"
   ]
  },
  {
   "cell_type": "markdown",
   "metadata": {},
   "source": [
    "## Change Log\n",
    "\n",
    "| Date (YYYY-MM-DD) | Version | Changed By    | Change Description          |\n",
    "| ----------------- | ------- | ------------- | --------------------------- |\n",
    "| 2020-08-27        | 1.0     | Malika Singla | Added lab to GitLab         |\n",
    "| 2022-06-22        | 2.0     | Lana K.       | Deleted GridSearch and Mock |\n",
    "| <hr>              |         |               |                             |\n",
    "\n",
    "## <h3 align=\"center\"> © IBM Corporation 2020. All rights reserved. <h3/>\n"
   ]
  }
 ],
 "metadata": {
  "kernelspec": {
   "display_name": "Python 3 (ipykernel)",
   "language": "python",
   "name": "python3"
  },
  "language_info": {
   "codemirror_mode": {
    "name": "ipython",
    "version": 3
   },
   "file_extension": ".py",
   "mimetype": "text/x-python",
   "name": "python",
   "nbconvert_exporter": "python",
   "pygments_lexer": "ipython3",
   "version": "3.9.7"
  }
 },
 "nbformat": 4,
 "nbformat_minor": 4
}
